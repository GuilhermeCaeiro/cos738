{
 "cells": [
  {
   "cell_type": "code",
   "execution_count": 1,
   "metadata": {},
   "outputs": [],
   "source": [
    "# based on tutorial at https://vegibit.com/python-xml-parsing/\n",
    "import xml.sax\n",
    "\n",
    "\n",
    "class XMLContentHandler(xml.sax.ContentHandler):\n",
    "    def __init__(self, tag_of_interest, output_file):\n",
    "        self.tag_of_interest = tag_of_interest\n",
    "        self.inside_tag_of_interest = False\n",
    "        \n",
    "        # clears output file if it already exists.\n",
    "        open(output_file, \"w\").close()\n",
    "        \n",
    "        self.output_file = open(output_file, \"a\")\n",
    "        \n",
    "\n",
    "    # Handle startElement\n",
    "    def startElement(self, current_tag, attributes):\n",
    "        if current_tag == self.tag_of_interest:\n",
    "            #print(\"Tag found.\")\n",
    "            self.inside_tag_of_interest = True\n",
    "\n",
    "    # Handle endElement\n",
    "    def endElement(self, current_tag):\n",
    "        if current_tag == self.tag_of_interest:\n",
    "            #print(\"Tag ended.\")\n",
    "            self.inside_tag_of_interest = False\n",
    "            \n",
    "            # it is not clear if \"characters\" will be called only once \n",
    "            # per element, so it might be safer to add the new line \n",
    "            # character here.\n",
    "            self.output_file.write(\"\\n\") \n",
    "\n",
    "    # Handle text data\n",
    "    def characters(self, text):\n",
    "        if self.inside_tag_of_interest:\n",
    "            #print(\"Saving tag content.\")\n",
    "            self.output_file.write(str(text))\n",
    "\n",
    "    def startDocument(self):\n",
    "        print(\"Reading started.\")\n",
    "\n",
    "    # Handle endDocument\n",
    "    def endDocument(self):\n",
    "        print(\"Reading finished.\")\n",
    "        print(\"Closing output file.\")\n",
    "        self.output_file.close()"
   ]
  },
  {
   "cell_type": "code",
   "execution_count": 2,
   "metadata": {},
   "outputs": [
    {
     "name": "stdout",
     "output_type": "stream",
     "text": [
      "Reading started.\n",
      "Reading finished.\n",
      "Closing output file.\n"
     ]
    }
   ],
   "source": [
    "xml.sax.parse(\"cf79.xml\", XMLContentHandler(\"AUTHOR\", \"autores.txt\"))\n"
   ]
  },
  {
   "cell_type": "code",
   "execution_count": 3,
   "metadata": {},
   "outputs": [],
   "source": [
    "import xml.dom.minidom\n",
    "\n",
    "def retrieve_data_from_tag(input_file, output_file_name, tag_of_interest):\n",
    "    domtree = xml.dom.minidom.parse(input_file)\n",
    "    tag_elements = domtree.getElementsByTagName(tag_of_interest)\n",
    "    \n",
    "    open(output_file_name, \"w\").close() # resets the file\n",
    "    output_file = open(output_file_name, \"a\")\n",
    "    \n",
    "    for element in tag_elements:\n",
    "        text_content = str(element.firstChild.nodeValue)\n",
    "        text_content = \" \".join(text_content.split()) #text_content.replace(\"\\n\", \"\")\n",
    "        #print(text_content + \"\\n\")\n",
    "        output_file.write(text_content + \"\\n\")\n",
    "        \n",
    "    output_file.close()\n",
    "    print(\"Data saved to file \" + output_file_name)\n"
   ]
  },
  {
   "cell_type": "code",
   "execution_count": 4,
   "metadata": {},
   "outputs": [
    {
     "name": "stdout",
     "output_type": "stream",
     "text": [
      "Data saved to file titulo.txt\n"
     ]
    }
   ],
   "source": [
    "retrieve_data_from_tag(\"cf79.xml\", \"titulo.txt\", \"TITLE\")"
   ]
  },
  {
   "cell_type": "code",
   "execution_count": null,
   "metadata": {},
   "outputs": [],
   "source": []
  }
 ],
 "metadata": {
  "kernelspec": {
   "display_name": "Python 3",
   "language": "python",
   "name": "python3"
  },
  "language_info": {
   "codemirror_mode": {
    "name": "ipython",
    "version": 3
   },
   "file_extension": ".py",
   "mimetype": "text/x-python",
   "name": "python",
   "nbconvert_exporter": "python",
   "pygments_lexer": "ipython3",
   "version": "3.7.7"
  }
 },
 "nbformat": 4,
 "nbformat_minor": 4
}
